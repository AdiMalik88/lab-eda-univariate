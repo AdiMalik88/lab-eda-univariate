{
 "cells": [
  {
   "cell_type": "code",
   "execution_count": 2,
   "id": "36191592",
   "metadata": {},
   "outputs": [],
   "source": [
    "# Lab - EDA Univariate Analysis: Diving into Amazon UK Product Insights"
   ]
  },
  {
   "cell_type": "code",
   "execution_count": 6,
   "id": "1df709fc",
   "metadata": {},
   "outputs": [],
   "source": [
    "import pandas as pd\n",
    "import matplotlib.pyplot as plt\n",
    "import seaborn as sns\n",
    "import numpy as np\n",
    "\n",
    "\n",
    "%matplotlib inline"
   ]
  },
  {
   "cell_type": "code",
   "execution_count": 7,
   "id": "6d535a85",
   "metadata": {},
   "outputs": [],
   "source": [
    "# Loading Amazon UK product dataset\n",
    "df = pd.read_csv(\"/Users/adimalik/Documents/Iron Hack/Labs/Week5/1. lab-eda-univariate/amz_uk_price_prediction_dataset.csv\")"
   ]
  },
  {
   "cell_type": "code",
   "execution_count": 8,
   "id": "610a9c60",
   "metadata": {},
   "outputs": [
    {
     "data": {
      "text/html": [
       "<div>\n",
       "<style scoped>\n",
       "    .dataframe tbody tr th:only-of-type {\n",
       "        vertical-align: middle;\n",
       "    }\n",
       "\n",
       "    .dataframe tbody tr th {\n",
       "        vertical-align: top;\n",
       "    }\n",
       "\n",
       "    .dataframe thead th {\n",
       "        text-align: right;\n",
       "    }\n",
       "</style>\n",
       "<table border=\"1\" class=\"dataframe\">\n",
       "  <thead>\n",
       "    <tr style=\"text-align: right;\">\n",
       "      <th></th>\n",
       "      <th>uid</th>\n",
       "      <th>asin</th>\n",
       "      <th>title</th>\n",
       "      <th>stars</th>\n",
       "      <th>reviews</th>\n",
       "      <th>price</th>\n",
       "      <th>isBestSeller</th>\n",
       "      <th>boughtInLastMonth</th>\n",
       "      <th>category</th>\n",
       "    </tr>\n",
       "  </thead>\n",
       "  <tbody>\n",
       "    <tr>\n",
       "      <th>0</th>\n",
       "      <td>1</td>\n",
       "      <td>B09B96TG33</td>\n",
       "      <td>Echo Dot (5th generation, 2022 release) | Big ...</td>\n",
       "      <td>4.7</td>\n",
       "      <td>15308</td>\n",
       "      <td>21.99</td>\n",
       "      <td>False</td>\n",
       "      <td>0</td>\n",
       "      <td>Hi-Fi Speakers</td>\n",
       "    </tr>\n",
       "    <tr>\n",
       "      <th>1</th>\n",
       "      <td>2</td>\n",
       "      <td>B01HTH3C8S</td>\n",
       "      <td>Anker Soundcore mini, Super-Portable Bluetooth...</td>\n",
       "      <td>4.7</td>\n",
       "      <td>98099</td>\n",
       "      <td>23.99</td>\n",
       "      <td>True</td>\n",
       "      <td>0</td>\n",
       "      <td>Hi-Fi Speakers</td>\n",
       "    </tr>\n",
       "    <tr>\n",
       "      <th>2</th>\n",
       "      <td>3</td>\n",
       "      <td>B09B8YWXDF</td>\n",
       "      <td>Echo Dot (5th generation, 2022 release) | Big ...</td>\n",
       "      <td>4.7</td>\n",
       "      <td>15308</td>\n",
       "      <td>21.99</td>\n",
       "      <td>False</td>\n",
       "      <td>0</td>\n",
       "      <td>Hi-Fi Speakers</td>\n",
       "    </tr>\n",
       "    <tr>\n",
       "      <th>3</th>\n",
       "      <td>4</td>\n",
       "      <td>B09B8T5VGV</td>\n",
       "      <td>Echo Dot with clock (5th generation, 2022 rele...</td>\n",
       "      <td>4.7</td>\n",
       "      <td>7205</td>\n",
       "      <td>31.99</td>\n",
       "      <td>False</td>\n",
       "      <td>0</td>\n",
       "      <td>Hi-Fi Speakers</td>\n",
       "    </tr>\n",
       "    <tr>\n",
       "      <th>4</th>\n",
       "      <td>5</td>\n",
       "      <td>B09WX6QD65</td>\n",
       "      <td>Introducing Echo Pop | Full sound compact Wi-F...</td>\n",
       "      <td>4.6</td>\n",
       "      <td>1881</td>\n",
       "      <td>17.99</td>\n",
       "      <td>False</td>\n",
       "      <td>0</td>\n",
       "      <td>Hi-Fi Speakers</td>\n",
       "    </tr>\n",
       "  </tbody>\n",
       "</table>\n",
       "</div>"
      ],
      "text/plain": [
       "   uid        asin                                              title  stars  \\\n",
       "0    1  B09B96TG33  Echo Dot (5th generation, 2022 release) | Big ...    4.7   \n",
       "1    2  B01HTH3C8S  Anker Soundcore mini, Super-Portable Bluetooth...    4.7   \n",
       "2    3  B09B8YWXDF  Echo Dot (5th generation, 2022 release) | Big ...    4.7   \n",
       "3    4  B09B8T5VGV  Echo Dot with clock (5th generation, 2022 rele...    4.7   \n",
       "4    5  B09WX6QD65  Introducing Echo Pop | Full sound compact Wi-F...    4.6   \n",
       "\n",
       "   reviews  price  isBestSeller  boughtInLastMonth        category  \n",
       "0    15308  21.99         False                  0  Hi-Fi Speakers  \n",
       "1    98099  23.99          True                  0  Hi-Fi Speakers  \n",
       "2    15308  21.99         False                  0  Hi-Fi Speakers  \n",
       "3     7205  31.99         False                  0  Hi-Fi Speakers  \n",
       "4     1881  17.99         False                  0  Hi-Fi Speakers  "
      ]
     },
     "execution_count": 8,
     "metadata": {},
     "output_type": "execute_result"
    }
   ],
   "source": [
    "# Display the first few rows of the dataset\n",
    "df.head()"
   ]
  },
  {
   "cell_type": "code",
   "execution_count": null,
   "id": "c39f576c",
   "metadata": {},
   "outputs": [],
   "source": [
    "# Part 1: Understanding Product Categories"
   ]
  },
  {
   "cell_type": "code",
   "execution_count": null,
   "id": "a4065dcd",
   "metadata": {},
   "outputs": [],
   "source": [
    "# **Business Question**: What are the most popular product categories on Amazon UK, and how do they compare in terms of listing frequency?"
   ]
  },
  {
   "cell_type": "code",
   "execution_count": 23,
   "id": "73c4d4d9",
   "metadata": {},
   "outputs": [],
   "source": [
    "category_counts = df['category'].value_counts()"
   ]
  },
  {
   "cell_type": "code",
   "execution_count": 24,
   "id": "a8a55061",
   "metadata": {},
   "outputs": [],
   "source": [
    "category_counts_sorted = category_counts.sort_values(ascending=False)"
   ]
  },
  {
   "cell_type": "code",
   "execution_count": 25,
   "id": "b532b4bb",
   "metadata": {},
   "outputs": [
    {
     "name": "stdout",
     "output_type": "stream",
     "text": [
      "Most popular product categories on Amazon UK and their listing frequencies:\n",
      "category\n",
      "Sports & Outdoors                         836265\n",
      "Beauty                                     19312\n",
      "Handmade Clothing, Shoes & Accessories     19229\n",
      "Bath & Body                                19092\n",
      "Birthday Gifts                             18978\n",
      "                                           ...  \n",
      "Alexa Built-In Devices                       107\n",
      "Motorbike Chassis                            107\n",
      "Plugs                                        107\n",
      "Smart Home Security & Lighting               104\n",
      "Smart Speakers                                54\n",
      "Name: count, Length: 296, dtype: int64\n"
     ]
    }
   ],
   "source": [
    "print(\"Most popular product categories on Amazon UK and their listing frequencies:\")\n",
    "print(category_counts_sorted)"
   ]
  },
  {
   "cell_type": "code",
   "execution_count": 26,
   "id": "c9c1e31f",
   "metadata": {},
   "outputs": [
    {
     "name": "stdout",
     "output_type": "stream",
     "text": [
      "Frequency table for product categories:\n",
      "category\n",
      "Sports & Outdoors                         836265\n",
      "Beauty                                     19312\n",
      "Handmade Clothing, Shoes & Accessories     19229\n",
      "Bath & Body                                19092\n",
      "Birthday Gifts                             18978\n",
      "                                           ...  \n",
      "Alexa Built-In Devices                       107\n",
      "Motorbike Chassis                            107\n",
      "Plugs                                        107\n",
      "Smart Home Security & Lighting               104\n",
      "Smart Speakers                                54\n",
      "Name: count, Length: 296, dtype: int64\n"
     ]
    }
   ],
   "source": [
    "## 1. **Frequency Tables**:\n",
    "\n",
    "# - Generate a frequency table for the product `category`.\n",
    "\n",
    "category_frequency_table = df['category'].value_counts()\n",
    "\n",
    "print(\"Frequency table for product categories:\")\n",
    "print(category_frequency_table)"
   ]
  },
  {
   "cell_type": "code",
   "execution_count": 27,
   "id": "b6c448e5",
   "metadata": {},
   "outputs": [
    {
     "name": "stdout",
     "output_type": "stream",
     "text": [
      "\n",
      "Top 5 most listed product categories:\n",
      "category\n",
      "Sports & Outdoors                         836265\n",
      "Beauty                                     19312\n",
      "Handmade Clothing, Shoes & Accessories     19229\n",
      "Bath & Body                                19092\n",
      "Birthday Gifts                             18978\n",
      "Name: count, dtype: int64\n"
     ]
    }
   ],
   "source": [
    "# - Which are the top 5 most listed product categories?\n",
    "\n",
    "top_5_categories = category_frequency_table.head(5)\n",
    "\n",
    "print(\"\\nTop 5 most listed product categories:\")\n",
    "print(top_5_categories)"
   ]
  },
  {
   "cell_type": "code",
   "execution_count": 30,
   "id": "52e83d4a",
   "metadata": {},
   "outputs": [],
   "source": [
    "# 2. **Visualizations**:\n",
    "\n",
    "# - Display the distribution of products across different categories using a bar chart. *If you face problems understanding the chart, do it for a subset of top categories.*\n",
    "\n",
    "frequency = df['category'].value_counts()"
   ]
  },
  {
   "cell_type": "code",
   "execution_count": 31,
   "id": "61acd4ac",
   "metadata": {},
   "outputs": [
    {
     "data": {
      "text/plain": [
       "category\n",
       "Sports & Outdoors                         836265\n",
       "Beauty                                     19312\n",
       "Handmade Clothing, Shoes & Accessories     19229\n",
       "Bath & Body                                19092\n",
       "Birthday Gifts                             18978\n",
       "                                           ...  \n",
       "Alexa Built-In Devices                       107\n",
       "Motorbike Chassis                            107\n",
       "Plugs                                        107\n",
       "Smart Home Security & Lighting               104\n",
       "Smart Speakers                                54\n",
       "Name: count, Length: 296, dtype: int64"
      ]
     },
     "execution_count": 31,
     "metadata": {},
     "output_type": "execute_result"
    }
   ],
   "source": [
    "frequency"
   ]
  },
  {
   "cell_type": "code",
   "execution_count": 32,
   "id": "225d84fc",
   "metadata": {},
   "outputs": [],
   "source": [
    "category = df['category']"
   ]
  },
  {
   "cell_type": "code",
   "execution_count": 33,
   "id": "5a872f7c",
   "metadata": {},
   "outputs": [
    {
     "data": {
      "text/plain": [
       "0              Hi-Fi Speakers\n",
       "1              Hi-Fi Speakers\n",
       "2              Hi-Fi Speakers\n",
       "3              Hi-Fi Speakers\n",
       "4              Hi-Fi Speakers\n",
       "                  ...        \n",
       "2443646    Motorbike Clothing\n",
       "2443647    Motorbike Clothing\n",
       "2443648    Motorbike Clothing\n",
       "2443649    Motorbike Clothing\n",
       "2443650    Motorbike Clothing\n",
       "Name: category, Length: 2443651, dtype: object"
      ]
     },
     "execution_count": 33,
     "metadata": {},
     "output_type": "execute_result"
    }
   ],
   "source": [
    "category"
   ]
  },
  {
   "cell_type": "code",
   "execution_count": 37,
   "id": "5b2d1abf",
   "metadata": {},
   "outputs": [
    {
     "data": {
      "image/png": "[encoded data removed]",
      "text/plain": [
       "<Figure size 640x480 with 1 Axes>"
      ]
     },
     "metadata": {},
     "output_type": "display_data"
    }
   ],
   "source": [
    "sns.barplot(x=category, y=frequency, palette=\"Set3\");"
   ]
  },
  {
   "cell_type": "code",
   "execution_count": 44,
   "id": "1afc5d77",
   "metadata": {},
   "outputs": [
    {
     "data": {
      "image/png": "[encoded data removed]",
      "text/plain": [
       "<Figure size 800x800 with 1 Axes>"
      ]
     },
     "metadata": {},
     "output_type": "display_data"
    }
   ],
   "source": [
    "# - For a subset of top categories, visualize their proportions using a pie chart. Does any category dominate the listings?\n",
    "\n",
    "plt.figure(figsize=(8, 8))\n",
    "sns.set_palette(\"Set3\")\n",
    "plt.title('Proportions of Products in Top Categories')\n",
    "plt.axis('equal')\n",
    "plt.pie(top_5_categories, labels=top_5_categories.index, autopct='%1.1f%%', startangle=140)\n",
    "plt.tight_layout()\n",
    "plt.show()"
   ]
  },
  {
   "cell_type": "code",
   "execution_count": 45,
   "id": "7180cdfc",
   "metadata": {},
   "outputs": [],
   "source": [
    "## Part 2: Delving into Product Pricing"
   ]
  },
  {
   "cell_type": "code",
   "execution_count": null,
   "id": "e95fc519",
   "metadata": {},
   "outputs": [],
   "source": [
    "# **Business Question**: How are products priced on Amazon UK, and are there specific price points or ranges that are more common?"
   ]
  },
  {
   "cell_type": "code",
   "execution_count": 61,
   "id": "26b31991",
   "metadata": {},
   "outputs": [
    {
     "data": {
      "text/plain": [
       "(89.24380943923663,\n",
       " 19.09,\n",
       " 0    9.99\n",
       " Name: price, dtype: float64)"
      ]
     },
     "execution_count": 61,
     "metadata": {},
     "output_type": "execute_result"
    }
   ],
   "source": [
    "# 1. **Measures of Centrality**:\n",
    "# - Calculate the mean, median, and mode for the `price` of products.\n",
    "\n",
    "mean_price = df['price'].mean()\n",
    "median_price = df['price'].median()\n",
    "mode_price = df['price'].mode()\n",
    "\n",
    "mean_price, median_price, mode_price"
   ]
  },
  {
   "cell_type": "code",
   "execution_count": 51,
   "id": "0d97b974",
   "metadata": {},
   "outputs": [
    {
     "name": "stdout",
     "output_type": "stream",
     "text": [
      "9.99\n"
     ]
    }
   ],
   "source": [
    "# What's the average price point of products listed? How does this compare with the most common price point (mode)?\n",
    "\n",
    "most_common_price = df['price'].mode()[0]\n",
    "print(most_common_price)"
   ]
  },
  {
   "cell_type": "code",
   "execution_count": 52,
   "id": "9ed52151",
   "metadata": {},
   "outputs": [
    {
     "data": {
      "text/plain": [
       "(119445.48532256528,\n",
       " 345.60886175352226,\n",
       " 0.0,\n",
       " 100000.0,\n",
       " 100000.0,\n",
       " 0.25     9.99\n",
       " 0.50    19.09\n",
       " 0.75    45.99\n",
       " Name: price, dtype: float64)"
      ]
     },
     "execution_count": 52,
     "metadata": {},
     "output_type": "execute_result"
    }
   ],
   "source": [
    "# 2. **Measures of Dispersion**:\n",
    "# - Determine the variance, standard deviation, range, and interquartile range for product `price`.\n",
    "\n",
    "variance_price = df['price'].var()\n",
    "std_dev_price = df['price'].std()\n",
    "min_price = df['price'].min()\n",
    "max_price = df['price'].max()\n",
    "range_price = max_price - min_price\n",
    "quantiles_price = df['price'].quantile([0.25, 0.5, 0.75])\n",
    "\n",
    "variance_price, std_dev_price, min_price, max_price, range_price, quantiles_price"
   ]
  },
  {
   "cell_type": "code",
   "execution_count": 72,
   "id": "d5f25777",
   "metadata": {},
   "outputs": [],
   "source": [
    "# - How varied are the product prices? Are there any indicators of a significant spread in prices?\n",
    "\n",
    "# The above measures indicate that there is a significant spread in prices. The high variance and standard deviation suggest that the prices are widely spread out from the mean, indicating a considerable level of variability in pricing. The range, which is from 0 to 100,000, also highlights the extent of this variability. Additionally, the interquartile range suggests that even within the middle 50% of prices, there's a substantial difference between the 25th and 75th percentiles, indicating variability in the central tendency of prices as well. Overall, these indicators suggest that product prices are quite varied."
   ]
  },
  {
   "cell_type": "code",
   "execution_count": 54,
   "id": "ab5f5bf1",
   "metadata": {},
   "outputs": [
    {
     "data": {
      "text/plain": [
       "<Axes: xlabel='price', ylabel='Count'>"
      ]
     },
     "execution_count": 54,
     "metadata": {},
     "output_type": "execute_result"
    },
    {
     "data": {
      "image/png": "[encoded data removed]",
      "text/plain": [
       "<Figure size 640x480 with 1 Axes>"
      ]
     },
     "metadata": {},
     "output_type": "display_data"
    }
   ],
   "source": [
    "# 3. **Visualizations**:\n",
    "#  - Is there a specific price range where most products fall? Plot a histogram to visualize the distribution of product prices. *If its hard to read these diagrams, think why this is, and explain how it could be solved.*.\n",
    "\n",
    "sns.histplot(df['price'], kde=True, bins=30, color=\"salmon\")"
   ]
  },
  {
   "cell_type": "code",
   "execution_count": 55,
   "id": "ada0d7c0",
   "metadata": {},
   "outputs": [
    {
     "data": {
      "text/plain": [
       "<Axes: >"
      ]
     },
     "execution_count": 55,
     "metadata": {},
     "output_type": "execute_result"
    },
    {
     "data": {
      "image/png": "[encoded data removed]",
      "text/plain": [
       "<Figure size 640x480 with 1 Axes>"
      ]
     },
     "metadata": {},
     "output_type": "display_data"
    }
   ],
   "source": [
    "# - Are there products that are priced significantly higher than the rest? Use a box plot to showcase the spread and potential outliers in product pricing. \n",
    "\n",
    "sns.boxplot(data = df['price'], color=\"lightgreen\")"
   ]
  },
  {
   "cell_type": "code",
   "execution_count": 56,
   "id": "d081a7d9",
   "metadata": {},
   "outputs": [],
   "source": [
    "# Discretizing 'price' into 4 categories\n",
    "bins = [0, 10000, 20000, 30000, df['price'].max()]\n",
    "labels = ['Low', 'Medium', 'High', 'Very High']\n",
    "df['price_category'] = pd.cut(df['price'], bins=bins, labels=labels, include_lowest=True)"
   ]
  },
  {
   "cell_type": "code",
   "execution_count": 58,
   "id": "7e036cad",
   "metadata": {},
   "outputs": [
    {
     "data": {
      "text/plain": [
       "price_category\n",
       "Low          2443484\n",
       "Medium           154\n",
       "High              11\n",
       "Very High          2\n",
       "Name: count, dtype: int64"
      ]
     },
     "execution_count": 58,
     "metadata": {},
     "output_type": "execute_result"
    }
   ],
   "source": [
    "df.price_category.value_counts()"
   ]
  },
  {
   "cell_type": "code",
   "execution_count": 59,
   "id": "304115d0",
   "metadata": {},
   "outputs": [],
   "source": [
    "## Part 3: Unpacking Product Ratings"
   ]
  },
  {
   "cell_type": "code",
   "execution_count": 60,
   "id": "30118635",
   "metadata": {},
   "outputs": [],
   "source": [
    "# **Business Question**: How do customers rate products on Amazon UK, and are there any patterns or tendencies in the ratings?"
   ]
  },
  {
   "cell_type": "code",
   "execution_count": 68,
   "id": "c1e729e4",
   "metadata": {},
   "outputs": [
    {
     "data": {
      "text/plain": [
       "(2.152836472966065,\n",
       " 0.0,\n",
       " 0    0.0\n",
       " Name: stars, dtype: float64)"
      ]
     },
     "execution_count": 68,
     "metadata": {},
     "output_type": "execute_result"
    }
   ],
   "source": [
    "# 1. **Measures of Centrality**:\n",
    "# - Calculate the mean, median, and mode for the `rating` of products.\n",
    "\n",
    "mean_rating = df['stars'].mean()\n",
    "median_rating = df['stars'].median()\n",
    "mode_rating = df['stars'].mode()\n",
    "\n",
    "mean_rating, median_rating, mode_rating"
   ]
  },
  {
   "cell_type": "code",
   "execution_count": 66,
   "id": "5d38fd66",
   "metadata": {},
   "outputs": [
    {
     "data": {
      "text/plain": [
       "0.0"
      ]
     },
     "execution_count": 66,
     "metadata": {},
     "output_type": "execute_result"
    }
   ],
   "source": [
    "# - How do customers generally rate products? Is there a common trend?\n",
    "\n",
    "mode_rating = df['stars'].mode()[0]\n",
    "mode_rating"
   ]
  },
  {
   "cell_type": "code",
   "execution_count": 69,
   "id": "ae2cf99f",
   "metadata": {},
   "outputs": [
    {
     "data": {
      "text/plain": [
       "(4.81743402976196,\n",
       " 2.1948653785054697,\n",
       " 0.0,\n",
       " 5.0,\n",
       " 5.0,\n",
       " 0.25    0.0\n",
       " 0.50    0.0\n",
       " 0.75    4.4\n",
       " Name: stars, dtype: float64)"
      ]
     },
     "execution_count": 69,
     "metadata": {},
     "output_type": "execute_result"
    }
   ],
   "source": [
    "# 2. **Measures of Dispersion**:\n",
    "# - Determine the variance, standard deviation, and interquartile range for product `rating`.\n",
    "\n",
    "variance_rating = df['stars'].var()\n",
    "std_dev_rating = df['stars'].std()\n",
    "min_rating = df['stars'].min()\n",
    "max_rating = df['stars'].max()\n",
    "range_rating = max_rating - min_rating\n",
    "quantiles_rating = df['stars'].quantile([0.25, 0.5, 0.75])\n",
    "\n",
    "variance_rating, std_dev_rating, min_rating, max_rating, range_rating, quantiles_rating"
   ]
  },
  {
   "cell_type": "code",
   "execution_count": 71,
   "id": "88b23ab9",
   "metadata": {},
   "outputs": [],
   "source": [
    "# - Are the ratings consistent, or is there a wide variation in customer feedback?\n",
    "\n",
    "# The above measures indicate that there is a wide variation in customer feedback for the products. The high variance and standard deviation suggest that the ratings are spread out from the mean, indicating a considerable level of variability in customer opinions. Additionally, the range, which spans from 0 to 5, also highlights the extent of this variability.\n",
    "# Moreover, the interquartile range suggests that even within the middle 50% of ratings, there's a substantial difference between the 25th and 75th percentiles, indicating variability in the central tendency of ratings as well.\n",
    "# Overall, these indicators suggest that the ratings are not consistent, and there is a wide variation in customer feedback. This could imply that different customers have varying experiences or perceptions of the products, leading to a diverse range of ratings."
   ]
  },
  {
   "cell_type": "code",
   "execution_count": 73,
   "id": "f34da698",
   "metadata": {},
   "outputs": [
    {
     "data": {
      "text/plain": [
       "(0.08120735761080985, -1.9260061280432985)"
      ]
     },
     "execution_count": 73,
     "metadata": {},
     "output_type": "execute_result"
    }
   ],
   "source": [
    "# 3. **Shape of the Distribution**:\n",
    "# - Calculate the skewness and kurtosis for the `rating` column. \n",
    "\n",
    "skewness_price = df['stars'].skew()\n",
    "kurtosis_price = df['stars'].kurtosis()\n",
    "\n",
    "skewness_price, kurtosis_price"
   ]
  },
  {
   "cell_type": "code",
   "execution_count": 75,
   "id": "a674b14d",
   "metadata": {},
   "outputs": [],
   "source": [
    "# - Are the ratings normally distributed, or do they lean towards higher or lower values?\n",
    "\n",
    "# Based on these values, the distribution of ratings does not seem to be normally distributed. It has a slight skewness to the right and lighter tails than a normal distribution. This suggests that ratings might lean slightly towards higher values but with less extreme values than a normal distribution would have."
   ]
  },
  {
   "cell_type": "code",
   "execution_count": 76,
   "id": "dd1006d7",
   "metadata": {},
   "outputs": [
    {
     "data": {
      "image/png": "[encoded data removed]",
      "text/plain": [
       "<Figure size 1500x2000 with 1 Axes>"
      ]
     },
     "metadata": {},
     "output_type": "display_data"
    }
   ],
   "source": [
    "# 4. **Visualizations**:\n",
    "# - Plot a histogram to visualize the distribution of product ratings. Is there a specific rating that is more common?\n",
    "\n",
    "df.stars.hist(figsize=(15, 20), bins=60, xlabelsize=10, ylabelsize=10);"
   ]
  }
 ],
 "metadata": {
  "kernelspec": {
   "display_name": "Python 3 (ipykernel)",
   "language": "python",
   "name": "python3"
  },
  "language_info": {
   "codemirror_mode": {
    "name": "ipython",
    "version": 3
   },
   "file_extension": ".py",
   "mimetype": "text/x-python",
   "name": "python",
   "nbconvert_exporter": "python",
   "pygments_lexer": "ipython3",
   "version": "3.11.5"
  }
 },
 "nbformat": 4,
 "nbformat_minor": 5
}
